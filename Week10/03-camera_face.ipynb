{
 "cells": [
  {
   "cell_type": "code",
   "execution_count": null,
   "metadata": {},
   "outputs": [],
   "source": [
    "import sys,  time\n",
    "import ipywidgets as widget\n",
    "from IPython.display import display\n",
    "import numpy as np\n",
    "import cv2\n",
    "from PIL import Image as PIL_Image\n",
    "from io import BytesIO\n",
    "cv2.startWindowThread()\n",
    "def img_to_png(ima, cvt=None):\n",
    "    if cvt:\n",
    "        ima = cv2.cvtColor(ima, cvt)\n",
    "    im = PIL_Image.fromarray(ima)\n",
    "    bio = BytesIO()\n",
    "    im.save(bio, format='png')\n",
    "    return bio.getvalue()"
   ]
  },
  {
   "cell_type": "code",
   "execution_count": null,
   "metadata": {},
   "outputs": [],
   "source": [
    "import dlib\n",
    "sd = dlib.shape_predictor(\"shape_predictor_68_face_landmarks.dat\")\n",
    "fr = cv2.face.createEigenFaceRecognizer()\n",
    "fd = dlib.get_frontal_face_detector()"
   ]
  },
  {
   "cell_type": "code",
   "execution_count": null,
   "metadata": {},
   "outputs": [],
   "source": [
    "cap = cv2.VideoCapture(0)\n",
    "cap.set(3,1920)\n",
    "cap.set(4,1080)\n",
    "while True:\n",
    "    ret, img0 = cap.read()\n",
    "    img = cv2.resize(img0, (640,360))\n",
    "    H, W = img.shape[:2]    \n",
    "    keycode = cv2.waitKey(1) & 0xff\n",
    "    if  keycode == ord('q'):\n",
    "        break\n",
    "    #imgray = cv2.cvtColor(img,cv2.COLOR_BGR2GRAY)\n",
    "    #ret,thresh = cv2.threshold(imgray,127,255,0)\n",
    "    #im2, contours, hierarchy = cv2.findContours(thresh,cv2.RETR_TREE,cv2.CHAIN_APPROX_SIMPLE)\n",
    "    #cv2.drawContours(img, contours, -1, (0,255,0), 1)\n",
    "    \n",
    "    #img = edges = cv2.Canny(img,100,200)\n",
    "    #img[:,:,0] += edges*128\n",
    "    \"\"\" \n",
    "    mask = np.zeros(img.shape[:2],np.uint8)\n",
    "    bgdModel = np.zeros((1,65),np.float64)\n",
    "    fgdModel = np.zeros((1,65),np.float64)\n",
    "    rect = (50,50,450,290)\n",
    "    cv2.grabCut(img,mask,rect,bgdModel,fgdModel,5,cv2.GC_INIT_WITH_RECT)\n",
    "    mask2 = np.where((mask==2)|(mask==0),0,1).astype('uint8')\n",
    "    img = img*mask2[:,:,np.newaxis]\n",
    "    \"\"\"\n",
    "    rl = fd(img)\n",
    "    for r in rl:\n",
    "        shape = sd(img, r)\n",
    "        poly = np.int32([(x.x, x.y) for x in shape.parts()])*2\n",
    "        img0 = cv2.polylines(img0, np.int32([poly[:17]]) , 0, (0,255,255))\n",
    "        img0 = cv2.polylines(img0, np.int32([poly[17:22]]) , 0, (255,0,255))\n",
    "        img0 = cv2.polylines(img0, np.int32([poly[22:27]]) , 0, (255,0,255))\n",
    "        img0 = cv2.polylines(img0, np.int32([poly[27:31]]) , 0, (0,255,0))\n",
    "        img0 = cv2.polylines(img0, np.int32([poly[30:36]]) , 1, (0,255,0))\n",
    "        img0 = cv2.polylines(img0, np.int32([poly[36:42]]) , 1, (255,255,255))\n",
    "        img0 = cv2.polylines(img0, np.int32([poly[42:48]]) , 1, (255,255,255))\n",
    "        img0 = cv2.polylines(img0, np.int32([poly[48:60]]) , 1, (255,255,0))\n",
    "        img0 = cv2.polylines(img0, np.int32([poly[60:68]]) , 1, (255,255,0))\n",
    "        #img = cv2.rectangle(img, (r.left(),r.top()), (r.right(),r.bottom()),  (255,255,0))\n",
    "    \n",
    "    img0 = cv2.flip(img0, 1)\n",
    "    cv2.imshow('frame', img0)\n",
    "\n",
    "    #time.sleep(0.3)\n",
    "cv2.destroyWindow('frame')\n",
    "cap.release()"
   ]
  }
 ],
 "metadata": {
  "kernelspec": {
   "display_name": "Python 3",
   "language": "python",
   "name": "python3"
  },
  "language_info": {
   "codemirror_mode": {
    "name": "ipython",
    "version": 3
   },
   "file_extension": ".py",
   "mimetype": "text/x-python",
   "name": "python",
   "nbconvert_exporter": "python",
   "pygments_lexer": "ipython3",
   "version": "3.6.1"
  }
 },
 "nbformat": 4,
 "nbformat_minor": 1
}
